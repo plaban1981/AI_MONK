{
  "nbformat": 4,
  "nbformat_minor": 0,
  "metadata": {
    "colab": {
      "name": "AI_Monk.ipynb",
      "provenance": [],
      "toc_visible": true,
      "authorship_tag": "ABX9TyNCKFGrq3oLmZOEimdzxfVZ",
      "include_colab_link": true
    },
    "kernelspec": {
      "name": "python3",
      "display_name": "Python 3"
    }
  },
  "cells": [
    {
      "cell_type": "markdown",
      "metadata": {
        "id": "view-in-github",
        "colab_type": "text"
      },
      "source": [
        "<a href=\"https://colab.research.google.com/github/plaban1981/AI_MONK/blob/master/AI_Monk.ipynb\" target=\"_parent\"><img src=\"https://colab.research.google.com/assets/colab-badge.svg\" alt=\"Open In Colab\"/></a>"
      ]
    },
    {
      "cell_type": "markdown",
      "metadata": {
        "id": "JdtMtND50kvG",
        "colab_type": "text"
      },
      "source": [
        "# Monk is a low code Deep Learning tool and a unified wrapper for Computer Vision."
      ]
    },
    {
      "cell_type": "markdown",
      "metadata": {
        "id": "tM2RRUtn2lZc",
        "colab_type": "text"
      },
      "source": [
        "*Monk AI is a tool that can cater to both beginners and experts of Computer Vision*"
      ]
    },
    {
      "cell_type": "markdown",
      "metadata": {
        "id": "f8rzl0j5IwEU",
        "colab_type": "text"
      },
      "source": [
        "# Install Monk"
      ]
    },
    {
      "cell_type": "code",
      "metadata": {
        "id": "4DZWUtWsIzwk",
        "colab_type": "code",
        "colab": {
          "base_uri": "https://localhost:8080/",
          "height": 158
        },
        "outputId": "abd8faf2-1d3c-4d65-8efa-94d249deb538"
      },
      "source": [
        "!git clone https://github.com/Tessellate-Imaging/monk_v1.git"
      ],
      "execution_count": 3,
      "outputs": [
        {
          "output_type": "stream",
          "text": [
            "Cloning into 'monk_v1'...\n",
            "remote: Enumerating objects: 702, done.\u001b[K\n",
            "remote: Counting objects: 100% (702/702), done.\u001b[K\n",
            "remote: Compressing objects: 100% (386/386), done.\u001b[K\n",
            "remote: Total 4450 (delta 482), reused 465 (delta 315), pack-reused 3748\u001b[K\n",
            "Receiving objects: 100% (4450/4450), 143.11 MiB | 11.96 MiB/s, done.\n",
            "Resolving deltas: 100% (2749/2749), done.\n",
            "Checking out files: 100% (1457/1457), done.\n"
          ],
          "name": "stdout"
        }
      ]
    },
    {
      "cell_type": "code",
      "metadata": {
        "id": "4-uqZXG8G6rU",
        "colab_type": "code",
        "colab": {
          "base_uri": "https://localhost:8080/",
          "height": 730
        },
        "outputId": "158d8166-3c0b-46eb-e8d9-06fcaa2d743a"
      },
      "source": [
        "pip install GPUtil mxnet-cu101 pylg gluoncv"
      ],
      "execution_count": 2,
      "outputs": [
        {
          "output_type": "stream",
          "text": [
            "Collecting GPUtil\n",
            "  Downloading https://files.pythonhosted.org/packages/ed/0e/5c61eedde9f6c87713e89d794f01e378cfd9565847d4576fa627d758c554/GPUtil-1.4.0.tar.gz\n",
            "Collecting mxnet-cu101\n",
            "\u001b[?25l  Downloading https://files.pythonhosted.org/packages/54/b1/7d01abca10eef104296d2b3f0c59a7dda7573126d079c9e2609e6c17993b/mxnet_cu101-1.6.0-py2.py3-none-manylinux1_x86_64.whl (710.5MB)\n",
            "\u001b[K     |████████████████████████████████| 710.5MB 24kB/s \n",
            "\u001b[?25hCollecting pylg\n",
            "  Downloading https://files.pythonhosted.org/packages/6c/15/20e454f122d87e4088803be527de8566468608c55645b573f702e11cb63c/PyLg-1.3.3-py3-none-any.whl\n",
            "Collecting gluoncv\n",
            "\u001b[?25l  Downloading https://files.pythonhosted.org/packages/fa/81/37a00609cb53da3671adb106b9bc03fb1c029ad5a8db4bc668283e65703d/gluoncv-0.7.0-py2.py3-none-any.whl (752kB)\n",
            "\u001b[K     |████████████████████████████████| 757kB 42.7MB/s \n",
            "\u001b[?25hCollecting graphviz<0.9.0,>=0.8.1\n",
            "  Downloading https://files.pythonhosted.org/packages/53/39/4ab213673844e0c004bed8a0781a0721a3f6bb23eb8854ee75c236428892/graphviz-0.8.4-py2.py3-none-any.whl\n",
            "Requirement already satisfied: requests<3,>=2.20.0 in /usr/local/lib/python3.6/dist-packages (from mxnet-cu101) (2.23.0)\n",
            "Requirement already satisfied: numpy<2.0.0,>1.16.0 in /usr/local/lib/python3.6/dist-packages (from mxnet-cu101) (1.18.4)\n",
            "Requirement already satisfied: Pillow in /usr/local/lib/python3.6/dist-packages (from gluoncv) (7.0.0)\n",
            "Requirement already satisfied: matplotlib in /usr/local/lib/python3.6/dist-packages (from gluoncv) (3.2.1)\n",
            "Requirement already satisfied: tqdm in /usr/local/lib/python3.6/dist-packages (from gluoncv) (4.41.1)\n",
            "Requirement already satisfied: scipy in /usr/local/lib/python3.6/dist-packages (from gluoncv) (1.4.1)\n",
            "Collecting portalocker\n",
            "  Downloading https://files.pythonhosted.org/packages/53/84/7b3146ec6378d28abc73ab484f09f47dfa008ad6f03f33d90a369f880e25/portalocker-1.7.0-py2.py3-none-any.whl\n",
            "Requirement already satisfied: urllib3!=1.25.0,!=1.25.1,<1.26,>=1.21.1 in /usr/local/lib/python3.6/dist-packages (from requests<3,>=2.20.0->mxnet-cu101) (1.24.3)\n",
            "Requirement already satisfied: idna<3,>=2.5 in /usr/local/lib/python3.6/dist-packages (from requests<3,>=2.20.0->mxnet-cu101) (2.9)\n",
            "Requirement already satisfied: certifi>=2017.4.17 in /usr/local/lib/python3.6/dist-packages (from requests<3,>=2.20.0->mxnet-cu101) (2020.4.5.1)\n",
            "Requirement already satisfied: chardet<4,>=3.0.2 in /usr/local/lib/python3.6/dist-packages (from requests<3,>=2.20.0->mxnet-cu101) (3.0.4)\n",
            "Requirement already satisfied: cycler>=0.10 in /usr/local/lib/python3.6/dist-packages (from matplotlib->gluoncv) (0.10.0)\n",
            "Requirement already satisfied: pyparsing!=2.0.4,!=2.1.2,!=2.1.6,>=2.0.1 in /usr/local/lib/python3.6/dist-packages (from matplotlib->gluoncv) (2.4.7)\n",
            "Requirement already satisfied: kiwisolver>=1.0.1 in /usr/local/lib/python3.6/dist-packages (from matplotlib->gluoncv) (1.2.0)\n",
            "Requirement already satisfied: python-dateutil>=2.1 in /usr/local/lib/python3.6/dist-packages (from matplotlib->gluoncv) (2.8.1)\n",
            "Requirement already satisfied: six in /usr/local/lib/python3.6/dist-packages (from cycler>=0.10->matplotlib->gluoncv) (1.12.0)\n",
            "Building wheels for collected packages: GPUtil\n",
            "  Building wheel for GPUtil (setup.py) ... \u001b[?25l\u001b[?25hdone\n",
            "  Created wheel for GPUtil: filename=GPUtil-1.4.0-cp36-none-any.whl size=7413 sha256=1e705527600083c1d521c4c0b7eb96880564658bf09c29e1e719d8fce208f387\n",
            "  Stored in directory: /root/.cache/pip/wheels/3d/77/07/80562de4bb0786e5ea186911a2c831fdd0018bda69beab71fd\n",
            "Successfully built GPUtil\n",
            "Installing collected packages: GPUtil, graphviz, mxnet-cu101, pylg, portalocker, gluoncv\n",
            "  Found existing installation: graphviz 0.10.1\n",
            "    Uninstalling graphviz-0.10.1:\n",
            "      Successfully uninstalled graphviz-0.10.1\n",
            "Successfully installed GPUtil-1.4.0 gluoncv-0.7.0 graphviz-0.8.4 mxnet-cu101-1.6.0 portalocker-1.7.0 pylg-1.3.3\n"
          ],
          "name": "stdout"
        }
      ]
    },
    {
      "cell_type": "markdown",
      "metadata": {
        "id": "6omnow4YIaZT",
        "colab_type": "text"
      },
      "source": [
        "## Getting Started with AI_MONK"
      ]
    },
    {
      "cell_type": "markdown",
      "metadata": {
        "id": "7elGCKFjJqeb",
        "colab_type": "text"
      },
      "source": [
        "*Dog Vs Cat Classifier Using Keras Backend - train, validate, infer (Dataset: Cats Vs Dogs)*"
      ]
    },
    {
      "cell_type": "code",
      "metadata": {
        "id": "g8fv7uKaHWI2",
        "colab_type": "code",
        "colab": {}
      },
      "source": [
        "import os\n",
        "import sys\n",
        "sys.path.append(\"monk_v1/monk/\");"
      ],
      "execution_count": 0,
      "outputs": []
    },
    {
      "cell_type": "code",
      "metadata": {
        "id": "44wFavqUKZQs",
        "colab_type": "code",
        "colab": {}
      },
      "source": [
        "#Using keras backend \n",
        "from keras_prototype import prototype"
      ],
      "execution_count": 0,
      "outputs": []
    },
    {
      "cell_type": "markdown",
      "metadata": {
        "id": "QEJ-VAQYJ8dl",
        "colab_type": "text"
      },
      "source": [
        "# Creating and managing experiments\n",
        "- Provide project name\n",
        "- Provide experiment name\n",
        "- For a specific data create a single project\n",
        "- Inside each project multiple experiments can be created\n",
        "- Every experiment can be have diferent hyper-parameters attached to it"
      ]
    },
    {
      "cell_type": "code",
      "metadata": {
        "id": "P9K0DUbmJ7wx",
        "colab_type": "code",
        "colab": {
          "base_uri": "https://localhost:8080/",
          "height": 158
        },
        "outputId": "b042c65a-8d58-477f-cc1f-6f99bdc5ca2f"
      },
      "source": [
        "gtf = prototype(verbose=1);\n",
        "gtf.Prototype(\"Classification-project-1\", \"Dog-vs-Cat-classifier-experiment-1\")"
      ],
      "execution_count": 7,
      "outputs": [
        {
          "output_type": "stream",
          "text": [
            "Keras Version: 2.3.1\n",
            "Tensorflow Version: 2.2.0\n",
            "\n",
            "Experiment Details\n",
            "    Project: Classification-project-1\n",
            "    Experiment: Dog-vs-Cat-classifier-experiment-1\n",
            "    Dir: /content/workspace/Classification-project-1/Dog-vs-Cat-classifier-experiment-1/\n",
            "\n"
          ],
          "name": "stdout"
        }
      ]
    },
    {
      "cell_type": "markdown",
      "metadata": {
        "id": "X1vTKVm9KxZe",
        "colab_type": "text"
      },
      "source": [
        "# Training a Cat Vs Dog image classifier - VGG16"
      ]
    },
    {
      "cell_type": "markdown",
      "metadata": {
        "id": "MvPKXIXHK14w",
        "colab_type": "text"
      },
      "source": [
        "# Quick mode training\n",
        "- Using Default Function\n",
        "    - dataset_path\n",
        "    - model_name\n",
        "    - num_epochs"
      ]
    },
    {
      "cell_type": "code",
      "metadata": {
        "id": "h6yN6k1DKSBo",
        "colab_type": "code",
        "colab": {
          "base_uri": "https://localhost:8080/",
          "height": 1000
        },
        "outputId": "a82944ac-3b2a-4ea3-b136-2962bba10d94"
      },
      "source": [
        "gtf.Default(dataset_path=\"monk_v1/monk/system_check_tests/datasets/dataset_cats_dogs_train\", \n",
        "            model_name=\"vgg16\", \n",
        "            num_epochs=5);"
      ],
      "execution_count": 8,
      "outputs": [
        {
          "output_type": "stream",
          "text": [
            "Dataset Details\n",
            "    Train path:     monk_v1/monk/system_check_tests/datasets/dataset_cats_dogs_train\n",
            "    Val path:       None\n",
            "    CSV train path: None\n",
            "    CSV val path:   None\n",
            "    Label Type:     single\n",
            "\n",
            "Dataset Params\n",
            "    Input Size:   224\n",
            "    Batch Size:   4\n",
            "    Data Shuffle: True\n",
            "    Processors:   2\n",
            "    Train-val split:   0.7\n",
            "\n",
            "Found 140 images belonging to 2 classes.\n",
            "Found 60 images belonging to 2 classes.\n",
            "Pre-Composed Train Transforms\n",
            "[{'RandomHorizontalFlip': {'p': 0.8}}, {'MeanSubtraction': {'mean': [0.485, 0.456, 0.406]}}]\n",
            "\n",
            "Pre-Composed Val Transforms\n",
            "[{'RandomHorizontalFlip': {'p': 0.8}}, {'MeanSubtraction': {'mean': [0.485, 0.456, 0.406]}}]\n",
            "\n",
            "Dataset Numbers\n",
            "    Num train images: 140\n",
            "    Num val images:   60\n",
            "    Num classes:      2\n",
            "\n",
            "WARNING:tensorflow:From monk_v1/monk/tf_keras_1/models/params.py:56: is_gpu_available (from tensorflow.python.framework.test_util) is deprecated and will be removed in a future version.\n",
            "Instructions for updating:\n",
            "Use `tf.config.list_physical_devices('GPU')` instead.\n",
            "Model Params\n",
            "    Model name:           vgg16\n",
            "    Use Gpu:              False\n",
            "    Gpu Memory Fraction:  0.6\n",
            "    Use pretrained:       True\n",
            "    Freeze base network:  True\n",
            "\n",
            "Model Details\n",
            "    Loading pretrained model\n",
            "WARNING:tensorflow:From monk_v1/monk/tf_keras_1/models/common.py:224: The name tf.keras.backend.set_session is deprecated. Please use tf.compat.v1.keras.backend.set_session instead.\n",
            "\n",
            "Downloading data from https://github.com/fchollet/deep-learning-models/releases/download/v0.1/vgg16_weights_tf_dim_ordering_tf_kernels_notop.h5\n",
            "58892288/58889256 [==============================] - 5s 0us/step\n",
            "    Model Loaded on device\n",
            "        Model name:                           vgg16\n",
            "        Num layers in model:  15\n",
            "        Num trainable layers: 2\n",
            "\n",
            "Optimizer\n",
            "    Name:          sgd\n",
            "    Learning rate: 0.0001\n",
            "    Params:        {'lr': 0.0001, 'momentum': 0.9, 'weight_decay': 0, 'momentum_dampening_rate': 0, 'clipnorm': 0.0, 'clipvalue': 0.0}\n",
            "\n",
            "\n",
            "\n",
            "Learning rate scheduler\n",
            "    Name:   reduceonplateaulr\n",
            "    Params: {'mode': 'min', 'factor': 0.1, 'patience': 1, 'verbose': True, 'threshold': 0.0001, 'threshold_mode': 'rel', 'cooldown': 0, 'min_lr': 0, 'epsilon': 1e-08}\n",
            "\n",
            "Loss\n",
            "    Name:          crossentropy\n",
            "    Params:        {'weight': None, 'batch_axis': 0, 'axis_to_sum_over': -1, 'label_as_categories': True, 'label_smoothing': False}\n",
            "\n",
            "Training params\n",
            "    Num Epochs: 5\n",
            "\n",
            "Display params\n",
            "    Display progress:          True\n",
            "    Display progress realtime: True\n",
            "    Save Training logs:        True\n",
            "    Save Intermediate models:  True\n",
            "    Intermediate model prefix: intermediate_model_\n",
            "\n"
          ],
          "name": "stdout"
        }
      ]
    },
    {
      "cell_type": "code",
      "metadata": {
        "id": "ROtT4ZAfLnCv",
        "colab_type": "code",
        "colab": {
          "base_uri": "https://localhost:8080/",
          "height": 1000
        },
        "outputId": "f9231e95-db90-4a72-bf7f-cf720f869c7a"
      },
      "source": [
        "#Start Training\n",
        "gtf.Train();\n",
        "\n",
        "#Read the training summary generated once you run the cell and training is completed"
      ],
      "execution_count": 9,
      "outputs": [
        {
          "output_type": "stream",
          "text": [
            "Training Start\n",
            "Epoch 1/5\n",
            "35/35 [==============================] - 101s 3s/step - loss: 2.4827 - accuracy: 0.6429 - val_loss: 1.7674 - val_accuracy: 0.8500\n",
            "\n",
            "Epoch 00001: saving model to workspace/Classification-project-1/Dog-vs-Cat-classifier-experiment-1/output/models/resume_state.h5\n",
            "\n",
            "Epoch 00001: val_loss improved from inf to 1.76742, saving model to workspace/Classification-project-1/Dog-vs-Cat-classifier-experiment-1/output/models/best_model.h5\n",
            "\n",
            "Epoch 00001: saving model to workspace/Classification-project-1/Dog-vs-Cat-classifier-experiment-1/output/models/intermediate_model_01.h5\n",
            "Epoch 2/5\n",
            "35/35 [==============================] - 99s 3s/step - loss: 0.6864 - accuracy: 0.8929 - val_loss: 1.8869 - val_accuracy: 0.8000\n",
            "\n",
            "Epoch 00002: saving model to workspace/Classification-project-1/Dog-vs-Cat-classifier-experiment-1/output/models/resume_state.h5\n",
            "\n",
            "Epoch 00002: val_loss did not improve from 1.76742\n",
            "\n",
            "Epoch 00002: saving model to workspace/Classification-project-1/Dog-vs-Cat-classifier-experiment-1/output/models/intermediate_model_02.h5\n",
            "\n",
            "Epoch 00002: ReduceLROnPlateau reducing learning rate to 9.999999747378752e-06.\n",
            "Epoch 3/5\n",
            "35/35 [==============================] - 99s 3s/step - loss: 0.4567 - accuracy: 0.9071 - val_loss: 0.4171 - val_accuracy: 0.8500\n",
            "\n",
            "Epoch 00003: saving model to workspace/Classification-project-1/Dog-vs-Cat-classifier-experiment-1/output/models/resume_state.h5\n",
            "\n",
            "Epoch 00003: val_loss improved from 1.76742 to 0.41707, saving model to workspace/Classification-project-1/Dog-vs-Cat-classifier-experiment-1/output/models/best_model.h5\n",
            "\n",
            "Epoch 00003: saving model to workspace/Classification-project-1/Dog-vs-Cat-classifier-experiment-1/output/models/intermediate_model_03.h5\n",
            "Epoch 4/5\n",
            "35/35 [==============================] - 100s 3s/step - loss: 0.2759 - accuracy: 0.9357 - val_loss: 0.0025 - val_accuracy: 0.8333\n",
            "\n",
            "Epoch 00004: saving model to workspace/Classification-project-1/Dog-vs-Cat-classifier-experiment-1/output/models/resume_state.h5\n",
            "\n",
            "Epoch 00004: val_loss improved from 0.41707 to 0.00253, saving model to workspace/Classification-project-1/Dog-vs-Cat-classifier-experiment-1/output/models/best_model.h5\n",
            "\n",
            "Epoch 00004: saving model to workspace/Classification-project-1/Dog-vs-Cat-classifier-experiment-1/output/models/intermediate_model_04.h5\n",
            "Epoch 5/5\n",
            "35/35 [==============================] - 99s 3s/step - loss: 0.2037 - accuracy: 0.9429 - val_loss: 1.1765 - val_accuracy: 0.8333\n",
            "\n",
            "Epoch 00005: saving model to workspace/Classification-project-1/Dog-vs-Cat-classifier-experiment-1/output/models/resume_state.h5\n",
            "\n",
            "Epoch 00005: val_loss did not improve from 0.00253\n",
            "\n",
            "Epoch 00005: saving model to workspace/Classification-project-1/Dog-vs-Cat-classifier-experiment-1/output/models/intermediate_model_05.h5\n",
            "\n",
            "Epoch 00005: ReduceLROnPlateau reducing learning rate to 9.999999747378752e-07.\n",
            "    Training completed in: 8m 19s\n",
            "    Best val Acc:          0.850000\n",
            "\n",
            "Training End\n",
            "\n",
            "Training Outputs\n",
            "    Model Dir:   /content/workspace/Classification-project-1/Dog-vs-Cat-classifier-experiment-1/output/models/\n",
            "    Log Dir:     /content/workspace/Classification-project-1/Dog-vs-Cat-classifier-experiment-1/output/logs/\n",
            "    Final model: final\n",
            "    Best model:  best_model\n",
            "    Log 1 - Validation accuracy history log: val_acc_history.npy\n",
            "    Log 2 - Validation loss history log:     val_loss_history.npy\n",
            "    Log 3 - Training accuracy history log:   train_acc_history.npy\n",
            "    Log 4 - Training loss history log:       train_loss_history.npy\n",
            "    Log 5 - Training curve:                  train_loss_history.npy\n",
            "    Log 6 - Validation curve:                train_loss_history.npy\n",
            "\n"
          ],
          "name": "stdout"
        },
        {
          "output_type": "display_data",
          "data": {
            "text/plain": [
              "<Figure size 432x288 with 0 Axes>"
            ]
          },
          "metadata": {
            "tags": []
          }
        }
      ]
    },
    {
      "cell_type": "markdown",
      "metadata": {
        "id": "TS0LEqMTXWTV",
        "colab_type": "text"
      },
      "source": [
        "# Validating the trained classifier"
      ]
    },
    {
      "cell_type": "code",
      "metadata": {
        "id": "2LRxQX9ALA0Z",
        "colab_type": "code",
        "colab": {
          "base_uri": "https://localhost:8080/",
          "height": 230
        },
        "outputId": "4ac62d6d-1d40-4d1a-c693-6226d01e77e7"
      },
      "source": [
        "gtf = prototype(verbose=1);\n",
        "gtf.Prototype(\"Classification-project-1\", \"Dog-vs-Cat-classifier-experiment-1\", eval_infer=True);"
      ],
      "execution_count": 10,
      "outputs": [
        {
          "output_type": "stream",
          "text": [
            "Keras Version: 2.3.1\n",
            "Tensorflow Version: 2.2.0\n",
            "\n",
            "Model Details\n",
            "    Loading model - workspace/Classification-project-1/Dog-vs-Cat-classifier-experiment-1/output/models/final.h5\n",
            "    Model loaded!\n",
            "\n",
            "Experiment Details\n",
            "    Project: Classification-project-1\n",
            "    Experiment: Dog-vs-Cat-classifier-experiment-1\n",
            "    Dir: /content/workspace/Classification-project-1/Dog-vs-Cat-classifier-experiment-1/\n",
            "\n"
          ],
          "name": "stdout"
        }
      ]
    },
    {
      "cell_type": "markdown",
      "metadata": {
        "id": "cIDKap9-Xq68",
        "colab_type": "text"
      },
      "source": [
        "\n",
        "# Load the validation dataset"
      ]
    },
    {
      "cell_type": "code",
      "metadata": {
        "id": "2FydeI-pXklU",
        "colab_type": "code",
        "colab": {
          "base_uri": "https://localhost:8080/",
          "height": 301
        },
        "outputId": "95192c37-bbaa-4e8f-f718-8fbc57cbffe3"
      },
      "source": [
        "gtf.Dataset_Params(dataset_path=\"monk_v1/monk/system_check_tests/datasets/dataset_cats_dogs_eval\");\n",
        "gtf.Dataset();"
      ],
      "execution_count": 11,
      "outputs": [
        {
          "output_type": "stream",
          "text": [
            "Dataset Details\n",
            "    Test path:     monk_v1/monk/system_check_tests/datasets/dataset_cats_dogs_eval\n",
            "    CSV test path:  None\n",
            "\n",
            "Dataset Params\n",
            "    Input Size:  224\n",
            "    Processors:   2\n",
            "\n",
            "Found 50 images belonging to 2 classes.\n",
            "Pre-Composed Test Transforms\n",
            "[{'MeanSubtraction': {'mean': [0.485, 0.456, 0.406]}}]\n",
            "\n",
            "Dataset Numbers\n",
            "    Num test images: 50\n",
            "    Num classes:      2\n",
            "\n"
          ],
          "name": "stdout"
        }
      ]
    },
    {
      "cell_type": "markdown",
      "metadata": {
        "id": "XhWNABznXymZ",
        "colab_type": "text"
      },
      "source": [
        "# Run validation"
      ]
    },
    {
      "cell_type": "code",
      "metadata": {
        "id": "BwK-KyvyXzcO",
        "colab_type": "code",
        "colab": {
          "base_uri": "https://localhost:8080/",
          "height": 212
        },
        "outputId": "7f8d964b-8825-4b6b-8cf2-7cbafa317eb5"
      },
      "source": [
        "accuracy, class_based_accuracy = gtf.Evaluate();"
      ],
      "execution_count": 12,
      "outputs": [
        {
          "output_type": "stream",
          "text": [
            "Testing\n",
            "50/50 [==============================] - 26s 516ms/step\n",
            "\n",
            "    Result\n",
            "        class based accuracies\n",
            "            0. cat - 100.0 %\n",
            "            1. dog - 84.0 %\n",
            "        total images:            50\n",
            "        num correct predictions: 46\n",
            "        Average accuracy (%):    92.0\n",
            "\n"
          ],
          "name": "stdout"
        }
      ]
    },
    {
      "cell_type": "markdown",
      "metadata": {
        "id": "k1_pDOxCY9FZ",
        "colab_type": "text"
      },
      "source": [
        "# Running inference on test images"
      ]
    },
    {
      "cell_type": "markdown",
      "metadata": {
        "id": "Mv_Zgy59aEl2",
        "colab_type": "text"
      },
      "source": [
        "\n",
        "Load the experiment in inference mode\n",
        "- Set flag eval_infer as True "
      ]
    },
    {
      "cell_type": "code",
      "metadata": {
        "id": "URqHk-WKaI7u",
        "colab_type": "code",
        "colab": {
          "base_uri": "https://localhost:8080/",
          "height": 230
        },
        "outputId": "1c16f537-3e7e-4c2c-fdc4-9bea4b224728"
      },
      "source": [
        "gtf = prototype(verbose=1);\n",
        "gtf.Prototype(\"Classification-project-1\", \"Dog-vs-Cat-classifier-experiment-1\", eval_infer=True)"
      ],
      "execution_count": 14,
      "outputs": [
        {
          "output_type": "stream",
          "text": [
            "Keras Version: 2.3.1\n",
            "Tensorflow Version: 2.2.0\n",
            "\n",
            "Model Details\n",
            "    Loading model - workspace/Classification-project-1/Dog-vs-Cat-classifier-experiment-1/output/models/final.h5\n",
            "    Model loaded!\n",
            "\n",
            "Experiment Details\n",
            "    Project: Classification-project-1\n",
            "    Experiment: Dog-vs-Cat-classifier-experiment-1\n",
            "    Dir: /content/workspace/Classification-project-1/Dog-vs-Cat-classifier-experiment-1/\n",
            "\n"
          ],
          "name": "stdout"
        }
      ]
    },
    {
      "cell_type": "markdown",
      "metadata": {
        "id": "Me3x9mXudcpc",
        "colab_type": "text"
      },
      "source": [
        "# Select image and Run inference"
      ]
    },
    {
      "cell_type": "code",
      "metadata": {
        "id": "EzV-LsGjY9-B",
        "colab_type": "code",
        "colab": {
          "base_uri": "https://localhost:8080/",
          "height": 604
        },
        "outputId": "bc29d8d5-6303-4d80-e41a-b9b146f8c935"
      },
      "source": [
        "img_name = \"monk_v1/monk/system_check_tests/datasets/dataset_cats_dogs_test/0.jpg\";\n",
        "predictions = gtf.Infer(img_name=img_name);\n",
        "\n",
        "#Display \n",
        "from IPython.display import Image\n",
        "Image(filename=img_name)"
      ],
      "execution_count": 15,
      "outputs": [
        {
          "output_type": "stream",
          "text": [
            "Prediction\n",
            "    Image name:         monk_v1/monk/system_check_tests/datasets/dataset_cats_dogs_test/0.jpg\n",
            "    Predicted class:      cat\n",
            "    Predicted score:      1.0\n",
            "\n"
          ],
          "name": "stdout"
        },
        {
          "output_type": "execute_result",
          "data": {
            "image/jpeg": "[encoded data removed]",
            "text/plain": [
              "<IPython.core.display.Image object>"
            ]
          },
          "metadata": {
            "tags": []
          },
          "execution_count": 15
        }
      ]
    },
    {
      "cell_type": "code",
      "metadata": {
        "id": "t4nyRWVxdgvm",
        "colab_type": "code",
        "colab": {
          "base_uri": "https://localhost:8080/",
          "height": 434
        },
        "outputId": "7da13615-317a-49e3-8f9c-5756502002cf"
      },
      "source": [
        "\n",
        "img_name = \"monk_v1/monk/system_check_tests/datasets/dataset_cats_dogs_test/90.jpg\";\n",
        "predictions = gtf.Infer(img_name=img_name);\n",
        "\n",
        "#Display \n",
        "from IPython.display import Image\n",
        "Image(filename=img_name)"
      ],
      "execution_count": 16,
      "outputs": [
        {
          "output_type": "stream",
          "text": [
            "Prediction\n",
            "    Image name:         monk_v1/monk/system_check_tests/datasets/dataset_cats_dogs_test/90.jpg\n",
            "    Predicted class:      dog\n",
            "    Predicted score:      1.0\n",
            "\n"
          ],
          "name": "stdout"
        },
        {
          "output_type": "execute_result",
          "data": {
            "image/jpeg": "[encoded data removed]",
            "text/plain": [
              "<IPython.core.display.Image object>"
            ]
          },
          "metadata": {
            "tags": []
          },
          "execution_count": 16
        }
      ]
    },
    {
      "cell_type": "markdown",
      "metadata": {
        "id": "ccwit8EP1igE",
        "colab_type": "text"
      },
      "source": [
        "predict the image from link: https://www.pexels.com/photo/photo-of-gray-cat-looking-up-against-black-background-730896/"
      ]
    },
    {
      "cell_type": "code",
      "metadata": {
        "id": "XdAve8Cu1HoW",
        "colab_type": "code",
        "colab": {
          "base_uri": "https://localhost:8080/",
          "height": 438
        },
        "outputId": "b588d61e-d2ff-45ab-bfc8-8c2cfd5b8925"
      },
      "source": [
        "img_name = \"/content/pexels-photo-730896.jpeg\"\n",
        "predictions = gtf.Infer(img_name=img_name);\n",
        "\n",
        "#Display \n",
        "from IPython.display import Image\n",
        "Image(filename=img_name)"
      ],
      "execution_count": 18,
      "outputs": [
        {
          "output_type": "stream",
          "text": [
            "Prediction\n",
            "    Image name:         /content/pexels-photo-730896.jpeg\n",
            "    Predicted class:      cat\n",
            "    Predicted score:      0.6519336700439453\n",
            "\n"
          ],
          "name": "stdout"
        },
        {
          "output_type": "execute_result",
          "data": {
            "image/jpeg": "[encoded data removed]",
            "text/plain": [
              "<IPython.core.display.Image object>"
            ]
          },
          "metadata": {
            "tags": []
          },
          "execution_count": 18
        }
      ]
    },
    {
      "cell_type": "code",
      "metadata": {
        "id": "nlAG-KAj1one",
        "colab_type": "code",
        "colab": {
          "base_uri": "https://localhost:8080/",
          "height": 288
        },
        "outputId": "69560482-27b4-4997-92e9-8bc082e2882b"
      },
      "source": [
        "img_name = \"/content/images2.jpg\"\n",
        "predictions = gtf.Infer(img_name=img_name);\n",
        "\n",
        "#Display \n",
        "from IPython.display import Image\n",
        "Image(filename=img_name)"
      ],
      "execution_count": 19,
      "outputs": [
        {
          "output_type": "stream",
          "text": [
            "Prediction\n",
            "    Image name:         /content/images2.jpg\n",
            "    Predicted class:      dog\n",
            "    Predicted score:      0.9999240636825562\n",
            "\n"
          ],
          "name": "stdout"
        },
        {
          "output_type": "execute_result",
          "data": {
            "image/jpeg": "[encoded data removed]",
            "text/plain": [
              "<IPython.core.display.Image object>"
            ]
          },
          "metadata": {
            "tags": []
          },
          "execution_count": 19
        }
      ]
    },
    {
      "cell_type": "code",
      "metadata": {
        "id": "IzeB8jXR29Qt",
        "colab_type": "code",
        "colab": {
          "base_uri": "https://localhost:8080/",
          "height": 331
        },
        "outputId": "17041039-ad07-40f0-8f94-1221ba6c5c54"
      },
      "source": [
        "img_name = \"/content/images3.jpg\"\n",
        "predictions = gtf.Infer(img_name=img_name);\n",
        "\n",
        "#Display \n",
        "from IPython.display import Image\n",
        "Image(filename=img_name)"
      ],
      "execution_count": 20,
      "outputs": [
        {
          "output_type": "stream",
          "text": [
            "Prediction\n",
            "    Image name:         /content/images3.jpg\n",
            "    Predicted class:      cat\n",
            "    Predicted score:      0.5290126204490662\n",
            "\n"
          ],
          "name": "stdout"
        },
        {
          "output_type": "execute_result",
          "data": {
            "image/jpeg": "[encoded data removed]",
            "text/plain": [
              "<IPython.core.display.Image object>"
            ]
          },
          "metadata": {
            "tags": []
          },
          "execution_count": 20
        }
      ]
    },
    {
      "cell_type": "code",
      "metadata": {
        "id": "YdZSvmAK2-QX",
        "colab_type": "code",
        "colab": {
          "base_uri": "https://localhost:8080/",
          "height": 300
        },
        "outputId": "e106cd04-380b-4174-dbbd-1436e75d900a"
      },
      "source": [
        "img_name = \"/content/img.jpg\"\n",
        "predictions = gtf.Infer(img_name=img_name);\n",
        "\n",
        "#Display \n",
        "from IPython.display import Image\n",
        "Image(filename=img_name)"
      ],
      "execution_count": 21,
      "outputs": [
        {
          "output_type": "stream",
          "text": [
            "Prediction\n",
            "    Image name:         /content/img.jpg\n",
            "    Predicted class:      cat\n",
            "    Predicted score:      0.5677302479743958\n",
            "\n"
          ],
          "name": "stdout"
        },
        {
          "output_type": "execute_result",
          "data": {
            "image/jpeg": "[encoded data removed]",
            "text/plain": [
              "<IPython.core.display.Image object>"
            ]
          },
          "metadata": {
            "tags": []
          },
          "execution_count": 21
        }
      ]
    },
    {
      "cell_type": "code",
      "metadata": {
        "id": "pyVbUsLN3UOK",
        "colab_type": "code",
        "colab": {}
      },
      "source": [
        ""
      ],
      "execution_count": 0,
      "outputs": []
    }
  ]
}